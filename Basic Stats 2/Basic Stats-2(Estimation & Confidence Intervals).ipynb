{
 "cells": [
  {
   "cell_type": "markdown",
   "id": "edbde422",
   "metadata": {},
   "source": [
    "# Basic Stats-2\n",
    "## Estimation And Confidence Intervals"
   ]
  },
  {
   "cell_type": "markdown",
   "id": "e46e4839",
   "metadata": {},
   "source": [
    "**Data: A total of 15 print-heads were randomly selected and tested until failure.\n",
    "       The durability of each print-head(in millions of characters) was recorded as follows:**\n",
    "       \n",
    "**1.13, 1.55, 1.43, 0.92, 1.25, 1.36, 1.32, 0.85, 1.07, 1.48, 1.20, 1.33, 1.18, 1.22, 1.29**"
   ]
  },
  {
   "cell_type": "markdown",
   "id": "be00da13",
   "metadata": {},
   "source": [
    "**Task: a. Build 99% Confidence Interval Using Sample Standard Deviation\n",
    "Assuming the sample is representative of the population, construct a 99% confidence interval for\n",
    "the mean number of characters printed before the print-head fails using the sample standard deviation.\n",
    "Explain the steps you take and the rationale behind using the t-distribution for this task.**"
   ]
  },
  {
   "cell_type": "code",
   "execution_count": 4,
   "id": "011daa08",
   "metadata": {},
   "outputs": [],
   "source": [
    "import numpy as np\n",
    "from scipy import stats"
   ]
  },
  {
   "cell_type": "code",
   "execution_count": 5,
   "id": "e8d4a1d3",
   "metadata": {},
   "outputs": [
    {
     "data": {
      "text/plain": [
       "array([1.13, 1.55, 1.43, 0.92, 1.25, 1.36, 1.32, 0.85, 1.07, 1.48, 1.2 ,\n",
       "       1.33, 1.18, 1.22, 1.29])"
      ]
     },
     "execution_count": 5,
     "metadata": {},
     "output_type": "execute_result"
    }
   ],
   "source": [
    "Data=np.array([1.13, 1.55, 1.43, 0.92, 1.25, 1.36, 1.32, 0.85, 1.07, 1.48, 1.20, 1.33, 1.18, 1.22, 1.29])\n",
    "Data"
   ]
  },
  {
   "cell_type": "code",
   "execution_count": 7,
   "id": "b32bbbba",
   "metadata": {},
   "outputs": [
    {
     "data": {
      "text/plain": [
       "15"
      ]
     },
     "execution_count": 7,
     "metadata": {},
     "output_type": "execute_result"
    }
   ],
   "source": [
    "n=len(Data)\n",
    "n"
   ]
  },
  {
   "cell_type": "code",
   "execution_count": 8,
   "id": "41069d2e",
   "metadata": {},
   "outputs": [
    {
     "data": {
      "text/plain": [
       "1.2386666666666666"
      ]
     },
     "execution_count": 8,
     "metadata": {},
     "output_type": "execute_result"
    }
   ],
   "source": [
    "mean=np.mean(Data)\n",
    "mean"
   ]
  },
  {
   "cell_type": "code",
   "execution_count": 12,
   "id": "3cfa0738",
   "metadata": {},
   "outputs": [
    {
     "data": {
      "text/plain": [
       "0.19316412956959936"
      ]
     },
     "execution_count": 12,
     "metadata": {},
     "output_type": "execute_result"
    }
   ],
   "source": [
    "std=np.std(Data,ddof=1) #ddof=1 for sample standard deviation\n",
    "std"
   ]
  },
  {
   "cell_type": "code",
   "execution_count": 15,
   "id": "315bdc0f",
   "metadata": {},
   "outputs": [],
   "source": [
    "# 99% Confidence Interval Using Sample Standard Deviation\n",
    "t_value = stats.t.ppf(0.995, df=n-1) # 0.995 for two-tailed 99% CI"
   ]
  },
  {
   "cell_type": "code",
   "execution_count": 16,
   "id": "0db19246",
   "metadata": {},
   "outputs": [],
   "source": [
    "margin_of_error_t = t_value * (std / np.sqrt(n))\n",
    "ci_t = (mean - margin_of_error_t,mean + margin_of_error_t)"
   ]
  },
  {
   "cell_type": "code",
   "execution_count": 25,
   "id": "cbf07ddf",
   "metadata": {
    "scrolled": true
   },
   "outputs": [
    {
     "name": "stdout",
     "output_type": "stream",
     "text": [
      "Sample Mean: 1.2387\n",
      "Sample Standard Deviation: 0.1932\n",
      "99% Confidence Interval using Sample Standard Deviation: (1.090197338451367, 1.3871359948819662)\n"
     ]
    }
   ],
   "source": [
    "print(\"Sample Mean:\",np.round(mean, 4))\n",
    "print(\"Sample Standard Deviation:\", np.round(std,4))\n",
    "print(\"99% Confidence Interval using Sample Standard Deviation:\",ci_t)"
   ]
  },
  {
   "cell_type": "markdown",
   "id": "e58797fa",
   "metadata": {},
   "source": [
    "**Task: b. Build 99% Confidence Interval Using Known Population Standard Deviation\n",
    "If it were known that the population standard deviation is 0.2 million characters,\n",
    "construct a 99% confidence interval for the mean number of characters printed before failure.**"
   ]
  },
  {
   "cell_type": "code",
   "execution_count": 26,
   "id": "514c6d31",
   "metadata": {},
   "outputs": [],
   "source": [
    "population_std = 0.2  # Given population standard deviation"
   ]
  },
  {
   "cell_type": "code",
   "execution_count": 27,
   "id": "84dfba4c",
   "metadata": {},
   "outputs": [],
   "source": [
    "z_value = stats.norm.ppf(0.995)  # 0.995 for two-tailed 99% CI"
   ]
  },
  {
   "cell_type": "code",
   "execution_count": 28,
   "id": "256a44fb",
   "metadata": {},
   "outputs": [],
   "source": [
    "margin_of_error_z = z_value * (population_std / np.sqrt(n))"
   ]
  },
  {
   "cell_type": "code",
   "execution_count": 31,
   "id": "4bbeedab",
   "metadata": {},
   "outputs": [],
   "source": [
    "ci_z = (mean - margin_of_error_z, mean + margin_of_error_z)"
   ]
  },
  {
   "cell_type": "code",
   "execution_count": 34,
   "id": "98bee660",
   "metadata": {},
   "outputs": [
    {
     "name": "stdout",
     "output_type": "stream",
     "text": [
      "99% Confidence Interval Using Known Population Standard Deviation: (1.1056514133957607, 1.3716819199375725)\n"
     ]
    }
   ],
   "source": [
    "print(\"99% Confidence Interval Using Known Population Standard Deviation:\",ci_z)"
   ]
  }
 ],
 "metadata": {
  "kernelspec": {
   "display_name": "Python 3 (ipykernel)",
   "language": "python",
   "name": "python3"
  },
  "language_info": {
   "codemirror_mode": {
    "name": "ipython",
    "version": 3
   },
   "file_extension": ".py",
   "mimetype": "text/x-python",
   "name": "python",
   "nbconvert_exporter": "python",
   "pygments_lexer": "ipython3",
   "version": "3.11.5"
  }
 },
 "nbformat": 4,
 "nbformat_minor": 5
}
