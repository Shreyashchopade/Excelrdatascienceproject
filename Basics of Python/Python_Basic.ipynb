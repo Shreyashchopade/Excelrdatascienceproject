{
  "nbformat": 4,
  "nbformat_minor": 0,
  "metadata": {
    "colab": {
      "provenance": []
    },
    "kernelspec": {
      "name": "python3",
      "display_name": "Python 3"
    },
    "language_info": {
      "name": "python"
    }
  },
  "cells": [
    {
      "cell_type": "markdown",
      "source": [
        "# PYTHON PROGRAMMING ASSIGNMENT"
      ],
      "metadata": {
        "id": "-0o4sQDekke2"
      }
    },
    {
      "cell_type": "markdown",
      "source": [
        "**Exercise 1: Prime Numbers\n",
        "Write a Python program that checks whether a given number is prime or not. A prime number is a natural number greater than 1 that has no positive divisors other than 1 and itself.**"
      ],
      "metadata": {
        "id": "I85oKc1ikx1l"
      }
    },
    {
      "cell_type": "code",
      "source": [
        "num=int(input(\"Enter Number: \")) # To take input from the user\n",
        "\n",
        "if num == 1:\n",
        "    print(\"It is not a prime Number\")\n",
        "if num > 1:\n",
        "    for i in range (2,num):   #check for factors\n",
        "        if num % i == 0:\n",
        "            print(\"It is not a prime number\")\n",
        "            break             #break out of loop\n",
        "    else:\n",
        "        print(\"It is prime number\")"
      ],
      "metadata": {
        "colab": {
          "base_uri": "https://localhost:8080/"
        },
        "id": "VY_-RhZylImP",
        "outputId": "89416bff-457c-4239-fdfc-fe080302127d"
      },
      "execution_count": null,
      "outputs": [
        {
          "output_type": "stream",
          "name": "stdout",
          "text": [
            "Enter Number: 13\n",
            "It is prime number\n"
          ]
        }
      ]
    },
    {
      "cell_type": "markdown",
      "source": [
        "**Exercise 2: Product of Random Numbers\n",
        "Develop a Python program that generates two random numbers and asks the user to enter the product of these numbers. The program should then check if the user's answer is correct and display an appropriate message.**"
      ],
      "metadata": {
        "id": "eheqU8m1l3Qn"
      }
    },
    {
      "cell_type": "code",
      "source": [
        "import random               #importing random method for generating random numbers\n",
        "Num1=random.randrange(1,10) #generating 2 random numbers\n",
        "Num2=random.randrange(1,10)\n",
        "\n",
        "print(\"Welcome! Let's play a game.\")\n",
        "print(\"I've generated two random numbers:\",Num1,\"And\",Num2)\n",
        "\n",
        "correct_Ans=Num1*Num2           #product of two random numbers\n",
        "user_answer= int(input(\"What is the product of these two numbers? Enter your answer: \"))  #take the user input\n",
        "if correct_Ans==user_answer:    #check the user input match with product of 2 random numbers\n",
        "    print(\"Congratulations!You are win\")\n",
        "else:\n",
        "    print(\"Sorry!you are lose.The correct answer was\",correct_Ans)"
      ],
      "metadata": {
        "colab": {
          "base_uri": "https://localhost:8080/"
        },
        "id": "y8EwnxTJl7aI",
        "outputId": "7bebc26f-88e9-4e50-fede-8b8c8772ac82"
      },
      "execution_count": null,
      "outputs": [
        {
          "output_type": "stream",
          "name": "stdout",
          "text": [
            "Welcome! Let's play a game.\n",
            "I've generated two random numbers: 5 And 6\n",
            "What is the product of these two numbers? Enter your answer: 30\n",
            "Congratulations!You are win\n"
          ]
        }
      ]
    },
    {
      "cell_type": "markdown",
      "source": [
        "**Exercise 3: Squares of Even/Odd Numbers\n",
        "Create a Python script that prints the squares of all even or odd numbers within the range of 100 to 200. Choose either even or odd numbers and document your choice in the code**\n"
      ],
      "metadata": {
        "id": "nRvc4rjHm7AX"
      }
    },
    {
      "cell_type": "code",
      "source": [
        "for num in range(100, 201):\n",
        "  if num % 2 == 0:  # Check if the number is even\n",
        "    print(f\"The square of even no: {num} is {num**2}\")\n",
        "  else:  # If the number is odd\n",
        "    print(f\"The square of odd no:  {num} is {num**2}\")"
      ],
      "metadata": {
        "colab": {
          "base_uri": "https://localhost:8080/"
        },
        "id": "qusmcYJboxlF",
        "outputId": "8a832948-fc39-4ad9-f2f8-4db04846eda8"
      },
      "execution_count": null,
      "outputs": [
        {
          "output_type": "stream",
          "name": "stdout",
          "text": [
            "The square of even no: 100 is 10000\n",
            "The square of odd no:  101 is 10201\n",
            "The square of even no: 102 is 10404\n",
            "The square of odd no:  103 is 10609\n",
            "The square of even no: 104 is 10816\n",
            "The square of odd no:  105 is 11025\n",
            "The square of even no: 106 is 11236\n",
            "The square of odd no:  107 is 11449\n",
            "The square of even no: 108 is 11664\n",
            "The square of odd no:  109 is 11881\n",
            "The square of even no: 110 is 12100\n",
            "The square of odd no:  111 is 12321\n",
            "The square of even no: 112 is 12544\n",
            "The square of odd no:  113 is 12769\n",
            "The square of even no: 114 is 12996\n",
            "The square of odd no:  115 is 13225\n",
            "The square of even no: 116 is 13456\n",
            "The square of odd no:  117 is 13689\n",
            "The square of even no: 118 is 13924\n",
            "The square of odd no:  119 is 14161\n",
            "The square of even no: 120 is 14400\n",
            "The square of odd no:  121 is 14641\n",
            "The square of even no: 122 is 14884\n",
            "The square of odd no:  123 is 15129\n",
            "The square of even no: 124 is 15376\n",
            "The square of odd no:  125 is 15625\n",
            "The square of even no: 126 is 15876\n",
            "The square of odd no:  127 is 16129\n",
            "The square of even no: 128 is 16384\n",
            "The square of odd no:  129 is 16641\n",
            "The square of even no: 130 is 16900\n",
            "The square of odd no:  131 is 17161\n",
            "The square of even no: 132 is 17424\n",
            "The square of odd no:  133 is 17689\n",
            "The square of even no: 134 is 17956\n",
            "The square of odd no:  135 is 18225\n",
            "The square of even no: 136 is 18496\n",
            "The square of odd no:  137 is 18769\n",
            "The square of even no: 138 is 19044\n",
            "The square of odd no:  139 is 19321\n",
            "The square of even no: 140 is 19600\n",
            "The square of odd no:  141 is 19881\n",
            "The square of even no: 142 is 20164\n",
            "The square of odd no:  143 is 20449\n",
            "The square of even no: 144 is 20736\n",
            "The square of odd no:  145 is 21025\n",
            "The square of even no: 146 is 21316\n",
            "The square of odd no:  147 is 21609\n",
            "The square of even no: 148 is 21904\n",
            "The square of odd no:  149 is 22201\n",
            "The square of even no: 150 is 22500\n",
            "The square of odd no:  151 is 22801\n",
            "The square of even no: 152 is 23104\n",
            "The square of odd no:  153 is 23409\n",
            "The square of even no: 154 is 23716\n",
            "The square of odd no:  155 is 24025\n",
            "The square of even no: 156 is 24336\n",
            "The square of odd no:  157 is 24649\n",
            "The square of even no: 158 is 24964\n",
            "The square of odd no:  159 is 25281\n",
            "The square of even no: 160 is 25600\n",
            "The square of odd no:  161 is 25921\n",
            "The square of even no: 162 is 26244\n",
            "The square of odd no:  163 is 26569\n",
            "The square of even no: 164 is 26896\n",
            "The square of odd no:  165 is 27225\n",
            "The square of even no: 166 is 27556\n",
            "The square of odd no:  167 is 27889\n",
            "The square of even no: 168 is 28224\n",
            "The square of odd no:  169 is 28561\n",
            "The square of even no: 170 is 28900\n",
            "The square of odd no:  171 is 29241\n",
            "The square of even no: 172 is 29584\n",
            "The square of odd no:  173 is 29929\n",
            "The square of even no: 174 is 30276\n",
            "The square of odd no:  175 is 30625\n",
            "The square of even no: 176 is 30976\n",
            "The square of odd no:  177 is 31329\n",
            "The square of even no: 178 is 31684\n",
            "The square of odd no:  179 is 32041\n",
            "The square of even no: 180 is 32400\n",
            "The square of odd no:  181 is 32761\n",
            "The square of even no: 182 is 33124\n",
            "The square of odd no:  183 is 33489\n",
            "The square of even no: 184 is 33856\n",
            "The square of odd no:  185 is 34225\n",
            "The square of even no: 186 is 34596\n",
            "The square of odd no:  187 is 34969\n",
            "The square of even no: 188 is 35344\n",
            "The square of odd no:  189 is 35721\n",
            "The square of even no: 190 is 36100\n",
            "The square of odd no:  191 is 36481\n",
            "The square of even no: 192 is 36864\n",
            "The square of odd no:  193 is 37249\n",
            "The square of even no: 194 is 37636\n",
            "The square of odd no:  195 is 38025\n",
            "The square of even no: 196 is 38416\n",
            "The square of odd no:  197 is 38809\n",
            "The square of even no: 198 is 39204\n",
            "The square of odd no:  199 is 39601\n",
            "The square of even no: 200 is 40000\n"
          ]
        }
      ]
    },
    {
      "cell_type": "markdown",
      "source": [
        "**Exercise 4: Word counter\n",
        "write a program to count the number of words in a given text.\n",
        "example:\n",
        "input_text = \"This is a sample text. This text will be used to demonstrate the word counter.\"\n",
        "Expected output:\n",
        "'This': 2\n",
        "'is': 1\n",
        "'a': 1\n",
        "'sample': 1\n",
        "'text.': 1**"
      ],
      "metadata": {
        "id": "z90RoB1-sp6d"
      }
    },
    {
      "cell_type": "code",
      "source": [
        "String = list(input(\"Enter Text:\").split(\" \"))#take user input as string and separate it with space and assign separated elements into list\n",
        "dict1 = {}\n",
        "for i in String:\n",
        "    dict1[i]= String.count(i)#assign each elemets and it's count to dictionary to remove duplicates\n",
        "print(dict1)"
      ],
      "metadata": {
        "colab": {
          "base_uri": "https://localhost:8080/",
          "height": 0
        },
        "id": "ePQnwSYZtjJm",
        "outputId": "1cb7973b-8a02-450a-c66d-cfbda310ed6a"
      },
      "execution_count": 11,
      "outputs": [
        {
          "output_type": "stream",
          "name": "stdout",
          "text": [
            "Enter Text:Hey, I'm Piyush! What's your name?\n",
            "{'Hey,': 1, \"I'm\": 1, 'Piyush!': 1, \"What's\": 1, 'your': 1, 'name?': 1}\n"
          ]
        }
      ]
    },
    {
      "cell_type": "markdown",
      "source": [
        "**Exercise 5: Check for Palindrome\n",
        "Write a Python function called is_palindrome that takes a string as input and returns True if the string is a palindrome, and False otherwise. A palindrome is a word, phrase, number, or other sequence of characters that reads the same forward and backward, ignoring spaces, punctuation, and capitalization.\n",
        "Example:\n",
        "Input: \"racecar\"\n",
        "Expected Output: True**"
      ],
      "metadata": {
        "id": "YjxR05vA1eOk"
      }
    },
    {
      "cell_type": "code",
      "source": [
        "a=input(\"Enter String:\")\n",
        "b=a[-1::-1]\n",
        "if a==b:\n",
        "    print(\"True,It is palindrome\")\n",
        "else:\n",
        "    print(\"False,It is not palindrome\")"
      ],
      "metadata": {
        "colab": {
          "base_uri": "https://localhost:8080/",
          "height": 0
        },
        "id": "xfIVhk7Z2Zc3",
        "outputId": "ee0b02e2-94fc-4aac-a3e8-8e6bed396a92"
      },
      "execution_count": 16,
      "outputs": [
        {
          "output_type": "stream",
          "name": "stdout",
          "text": [
            "Enter String:madam\n",
            "True,It is palindrome\n"
          ]
        }
      ]
    }
  ]
}